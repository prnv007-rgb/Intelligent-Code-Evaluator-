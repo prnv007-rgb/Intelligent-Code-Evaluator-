{
 "cells": [
  {
   "cell_type": "code",
   "execution_count": 2,
   "id": "6bda3ef8",
   "metadata": {},
   "outputs": [
    {
     "data": {
      "application/vnd.jupyter.widget-view+json": {
       "model_id": "326bd491c0814fd9936c640d62c4fcd8",
       "version_major": 2,
       "version_minor": 0
      },
      "text/plain": [
       "pytorch_model.bin:  35%|###5      | 176M/499M [00:00<?, ?B/s]"
      ]
     },
     "metadata": {},
     "output_type": "display_data"
    },
    {
     "name": "stderr",
     "output_type": "stream",
     "text": [
      "Some weights of RobertaModel were not initialized from the model checkpoint at microsoft/graphcodebert-base and are newly initialized: ['roberta.pooler.dense.bias', 'roberta.pooler.dense.weight']\n",
      "You should probably TRAIN this model on a down-stream task to be able to use it for predictions and inference.\n"
     ]
    },
    {
     "data": {
      "application/vnd.jupyter.widget-view+json": {
       "model_id": "17cbf83ec62b4957b78e69c1c4c5a273",
       "version_major": 2,
       "version_minor": 0
      },
      "text/plain": [
       "model.safetensors:   0%|          | 0.00/499M [00:00<?, ?B/s]"
      ]
     },
     "metadata": {},
     "output_type": "display_data"
    }
   ],
   "source": [
    "from transformers import RobertaTokenizer, RobertaModel\n",
    "import torch\n",
    "\n",
    "tokenizer = RobertaTokenizer.from_pretrained(\"microsoft/graphcodebert-base\")\n",
    "model = RobertaModel.from_pretrained(\"microsoft/graphcodebert-base\")\n",
    "\n",
    "def get_code_embedding(code):\n",
    "    tokens = tokenizer(code, return_tensors=\"pt\", max_length=512, truncation=True)\n",
    "    with torch.no_grad():\n",
    "        outputs = model(**tokens)\n",
    "    return outputs.last_hidden_state[:, 0, :]  # [CLS] token\n"
   ]
  },
  {
   "cell_type": "code",
   "execution_count": 3,
   "id": "ac675a40",
   "metadata": {},
   "outputs": [],
   "source": [
    "def compute_similarity(code1, code2):\n",
    "    emb1 = get_code_embedding(code1)\n",
    "    emb2 = get_code_embedding(code2)\n",
    "    similarity = torch.nn.functional.cosine_similarity(emb1, emb2)\n",
    "    return similarity.item()\n"
   ]
  },
  {
   "cell_type": "code",
   "execution_count": 4,
   "id": "f4d68a7b",
   "metadata": {},
   "outputs": [
    {
     "name": "stdout",
     "output_type": "stream",
     "text": [
      "Code Similarity Score: 0.9753\n"
     ]
    }
   ],
   "source": [
    "# User-submitted (possibly brute-force) code\n",
    "user_code = \"\"\"\n",
    "def two_sum(nums, target):\n",
    "    for i in range(len(nums)):\n",
    "        for j in range(i + 1, len(nums)):\n",
    "            if nums[i] + nums[j] == target:\n",
    "                print([i, j])\n",
    "\n",
    "nums = [2, 7, 11, 15]\n",
    "target = 9\n",
    "two_sum(nums, target)\n",
    "\"\"\"\n",
    "\n",
    "# Reference (optimal) solution\n",
    "reference_code = \"\"\"\n",
    "def two_sum(nums, target):\n",
    "    hashmap = {}\n",
    "    for i, num in enumerate(nums):\n",
    "        if target - num in hashmap:\n",
    "            print([hashmap[target - num], i])\n",
    "        hashmap[num] = i\n",
    "\n",
    "nums = [2, 7, 11, 15]\n",
    "target = 9\n",
    "two_sum(nums, target)\n",
    "\"\"\"\n",
    "\n",
    "similarity = compute_similarity(user_code, reference_code)\n",
    "print(f\"Code Similarity Score: {similarity:.4f}\")\n"
   ]
  }
 ],
 "metadata": {
  "kernelspec": {
   "display_name": "base",
   "language": "python",
   "name": "python3"
  },
  "language_info": {
   "codemirror_mode": {
    "name": "ipython",
    "version": 3
   },
   "file_extension": ".py",
   "mimetype": "text/x-python",
   "name": "python",
   "nbconvert_exporter": "python",
   "pygments_lexer": "ipython3",
   "version": "3.12.3"
  }
 },
 "nbformat": 4,
 "nbformat_minor": 5
}
